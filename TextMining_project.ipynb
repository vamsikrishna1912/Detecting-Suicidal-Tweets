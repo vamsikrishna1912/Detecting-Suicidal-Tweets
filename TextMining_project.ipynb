{
 "cells": [
  {
   "cell_type": "markdown",
   "id": "512bb15b",
   "metadata": {},
   "source": [
    "### Importing common packages\n"
   ]
  },
  {
   "cell_type": "code",
   "execution_count": 4,
   "id": "98ffac61",
   "metadata": {},
   "outputs": [],
   "source": [
    "import numpy as np\n",
    "import pandas as pd\n",
    "import re"
   ]
  },
  {
   "cell_type": "markdown",
   "id": "212c84de",
   "metadata": {},
   "source": [
    "### Loading data\n"
   ]
  },
  {
   "cell_type": "code",
   "execution_count": 5,
   "id": "16ac8828",
   "metadata": {},
   "outputs": [],
   "source": [
    "np.random.seed(1)\n",
    "suicideDS = pd.read_csv(\"Suicide_Ideation_Dataset(Twitter-based) 2.csv\")"
   ]
  },
  {
   "cell_type": "code",
   "execution_count": 6,
   "id": "24a9a575",
   "metadata": {},
   "outputs": [
    {
     "data": {
      "text/plain": [
       "(1787, 2)"
      ]
     },
     "execution_count": 6,
     "metadata": {},
     "output_type": "execute_result"
    }
   ],
   "source": [
    "suicideDS.shape"
   ]
  },
  {
   "cell_type": "markdown",
   "id": "65192c99",
   "metadata": {},
   "source": [
    "### Checking for missing values\n"
   ]
  },
  {
   "cell_type": "code",
   "execution_count": 7,
   "id": "e0e327a2",
   "metadata": {},
   "outputs": [
    {
     "data": {
      "text/plain": [
       "Tweet    2\n",
       "dtype: int64"
      ]
     },
     "execution_count": 7,
     "metadata": {},
     "output_type": "execute_result"
    }
   ],
   "source": [
    "suicideDS[['Tweet']].isna().sum()"
   ]
  },
  {
   "cell_type": "markdown",
   "id": "8b75d0b3",
   "metadata": {},
   "source": [
    " If there are missing values:"
   ]
  },
  {
   "cell_type": "code",
   "execution_count": 8,
   "id": "10367373",
   "metadata": {},
   "outputs": [],
   "source": [
    "suicideDS['Tweet'].fillna('missing', inplace=True)"
   ]
  },
  {
   "cell_type": "code",
   "execution_count": 9,
   "id": "480f2c04",
   "metadata": {
    "scrolled": true
   },
   "outputs": [
    {
     "data": {
      "text/plain": [
       "Tweet    0\n",
       "dtype: int64"
      ]
     },
     "execution_count": 9,
     "metadata": {},
     "output_type": "execute_result"
    }
   ],
   "source": [
    "suicideDS[['Tweet']].isna().sum()"
   ]
  },
  {
   "cell_type": "markdown",
   "id": "69a5b569",
   "metadata": {},
   "source": [
    "# text cleaning"
   ]
  },
  {
   "cell_type": "code",
   "execution_count": 15,
   "id": "037354d5",
   "metadata": {},
   "outputs": [],
   "source": [
    "# Removing mentions, hashtags, and URLs from specific text columns\n",
    "text_columns = ['Tweet', 'Suicide'] \n",
    "for col in text_columns:\n",
    "    suicideDS[col] = suicideDS[col].apply(lambda x: re.sub(r'@\\w+', '', x))  # Removing mentions\n",
    "    suicideDS[col] = suicideDS[col].apply(lambda x: re.sub(r'#\\w+', '', x))  # Removing hashtags\n",
    "    suicideDS[col] = suicideDS[col].apply(lambda x: re.sub(r'http\\S+', '', x))  # Removing URLs\n",
    "    suicideDS[col] = suicideDS[col].apply(lambda x: re.sub(r'[^a-zA-Z\\s]', '', x))  # Removing non-alphanumeric characters"
   ]
  },
  {
   "cell_type": "markdown",
   "id": "9d022535",
   "metadata": {},
   "source": [
    "## Assigning the input variable to input_var and the target variable to output_var"
   ]
  },
  {
   "cell_type": "code",
   "execution_count": 16,
   "id": "3a16ad42",
   "metadata": {},
   "outputs": [],
   "source": [
    "input_var = suicideDS['Tweet']"
   ]
  },
  {
   "cell_type": "code",
   "execution_count": 17,
   "id": "5196fd3c",
   "metadata": {},
   "outputs": [],
   "source": [
    "output_var = suicideDS['Suicide']"
   ]
  },
  {
   "cell_type": "markdown",
   "id": "593d4355",
   "metadata": {},
   "source": [
    "He we have two categories that we will predict:\n",
    "Whether a post is 'Not Suicide post' or 'Potential Suicide post '"
   ]
  },
  {
   "cell_type": "code",
   "execution_count": 18,
   "id": "11926500",
   "metadata": {},
   "outputs": [
    {
     "name": "stdout",
     "output_type": "stream",
     "text": [
      "['Not Suicide post' 'Potential Suicide post ']\n"
     ]
    },
    {
     "data": {
      "text/plain": [
       "array([0, 0, 1, ..., 0, 0, 0])"
      ]
     },
     "execution_count": 18,
     "metadata": {},
     "output_type": "execute_result"
    }
   ],
   "source": [
    "from sklearn import preprocessing\n",
    "\n",
    "le = preprocessing.LabelEncoder()\n",
    "le.fit(output_var)\n",
    "print(le.classes_)\n",
    "output_var = le.transform(output_var)\n",
    "\n",
    "output_var\n"
   ]
  },
  {
   "cell_type": "markdown",
   "id": "2b254fef",
   "metadata": {},
   "source": [
    "## Splitting the data"
   ]
  },
  {
   "cell_type": "code",
   "execution_count": 19,
   "id": "e21bdfb9",
   "metadata": {},
   "outputs": [],
   "source": [
    "from sklearn.model_selection import train_test_split\n",
    "\n",
    "X_train, X_test, y_train, y_test = train_test_split(input_var, output_var, test_size=0.3)"
   ]
  },
  {
   "cell_type": "code",
   "execution_count": 20,
   "id": "43662a6c",
   "metadata": {},
   "outputs": [
    {
     "data": {
      "text/plain": [
       "((1250,), (1250,))"
      ]
     },
     "execution_count": 20,
     "metadata": {},
     "output_type": "execute_result"
    }
   ],
   "source": [
    "X_train.shape, y_train.shape"
   ]
  },
  {
   "cell_type": "code",
   "execution_count": 21,
   "id": "1a6d512c",
   "metadata": {},
   "outputs": [
    {
     "data": {
      "text/plain": [
       "((537,), (537,))"
      ]
     },
     "execution_count": 21,
     "metadata": {},
     "output_type": "execute_result"
    }
   ],
   "source": [
    "X_test.shape, y_test.shape"
   ]
  },
  {
   "cell_type": "markdown",
   "id": "0910520c",
   "metadata": {},
   "source": [
    "# Text preparation"
   ]
  },
  {
   "cell_type": "code",
   "execution_count": 22,
   "id": "1c6e91fb",
   "metadata": {},
   "outputs": [],
   "source": [
    "from sklearn.feature_extraction.text import TfidfVectorizer\n",
    "\n",
    "tfidf_vect = TfidfVectorizer(stop_words='english', lowercase=True, token_pattern=\"[^\\W\\d_]+\")\n",
    "\n",
    "X_train = tfidf_vect.fit_transform(X_train)"
   ]
  },
  {
   "cell_type": "code",
   "execution_count": 23,
   "id": "33a1a159",
   "metadata": {},
   "outputs": [],
   "source": [
    "X_test = tfidf_vect.transform(X_test)\n"
   ]
  },
  {
   "cell_type": "code",
   "execution_count": 24,
   "id": "edf30212",
   "metadata": {},
   "outputs": [
    {
     "data": {
      "text/plain": [
       "((1250, 3667), (537, 3667))"
      ]
     },
     "execution_count": 24,
     "metadata": {},
     "output_type": "execute_result"
    }
   ],
   "source": [
    "X_train.shape, X_test.shape"
   ]
  },
  {
   "cell_type": "code",
   "execution_count": 25,
   "id": "17baae11",
   "metadata": {},
   "outputs": [
    {
     "data": {
      "text/plain": [
       "<1250x3667 sparse matrix of type '<class 'numpy.float64'>'\n",
       "\twith 10195 stored elements in Compressed Sparse Row format>"
      ]
     },
     "execution_count": 25,
     "metadata": {},
     "output_type": "execute_result"
    }
   ],
   "source": [
    "X_train\n"
   ]
  },
  {
   "cell_type": "markdown",
   "id": "bff2bc58",
   "metadata": {},
   "source": [
    "# converting \"sparse matrix\" using toarray()"
   ]
  },
  {
   "cell_type": "code",
   "execution_count": 26,
   "id": "dd1a4a8e",
   "metadata": {},
   "outputs": [
    {
     "data": {
      "text/plain": [
       "array([[0., 0., 0., ..., 0., 0., 0.],\n",
       "       [0., 0., 0., ..., 0., 0., 0.],\n",
       "       [0., 0., 0., ..., 0., 0., 0.],\n",
       "       ...,\n",
       "       [0., 0., 0., ..., 0., 0., 0.],\n",
       "       [0., 0., 0., ..., 0., 0., 0.],\n",
       "       [0., 0., 0., ..., 0., 0., 0.]])"
      ]
     },
     "execution_count": 26,
     "metadata": {},
     "output_type": "execute_result"
    }
   ],
   "source": [
    "X_train.toarray()"
   ]
  },
  {
   "cell_type": "markdown",
   "id": "7b9eb840",
   "metadata": {},
   "source": [
    "# Latent Semantic Analysis (Singular Value Decomposition)\n"
   ]
  },
  {
   "cell_type": "code",
   "execution_count": 27,
   "id": "5fb83c58",
   "metadata": {},
   "outputs": [],
   "source": [
    "from sklearn.decomposition import TruncatedSVD\n",
    "\n",
    "svd = TruncatedSVD(n_components=300, n_iter=10) #n_components is the number of topics, which should be less than the number of features\n",
    "\n",
    "X_train= svd.fit_transform(X_train)\n",
    "X_test = svd.transform(X_test)\n"
   ]
  },
  {
   "cell_type": "code",
   "execution_count": 28,
   "id": "42acbffc",
   "metadata": {},
   "outputs": [
    {
     "data": {
      "text/plain": [
       "((1250, 300), (537, 300))"
      ]
     },
     "execution_count": 28,
     "metadata": {},
     "output_type": "execute_result"
    }
   ],
   "source": [
    "X_train.shape, X_test.shape"
   ]
  },
  {
   "cell_type": "markdown",
   "id": "db66a0b8",
   "metadata": {},
   "source": [
    "# Random Forest"
   ]
  },
  {
   "cell_type": "code",
   "execution_count": 29,
   "id": "f5f0dd30",
   "metadata": {},
   "outputs": [],
   "source": [
    "from sklearn.ensemble import RandomForestClassifier \n",
    "\n",
    "rnd_clf = RandomForestClassifier(n_estimators=100, max_leaf_nodes=16, n_jobs=-1) \n",
    "_ = rnd_clf.fit(X_train, y_train)"
   ]
  },
  {
   "cell_type": "code",
   "execution_count": 30,
   "id": "fe5a8bfc",
   "metadata": {},
   "outputs": [],
   "source": [
    "from sklearn.metrics import accuracy_score\n"
   ]
  },
  {
   "cell_type": "code",
   "execution_count": 31,
   "id": "76989803",
   "metadata": {},
   "outputs": [
    {
     "name": "stdout",
     "output_type": "stream",
     "text": [
      "Train acc: 0.8952\n"
     ]
    }
   ],
   "source": [
    "#Train accuracy\n",
    "y_pred_train = rnd_clf.predict(X_train)\n",
    "acc = accuracy_score(y_train, y_pred_train)\n",
    "print(f\"Train acc: {accuracy_score(y_train, y_pred_train):.4f}\")"
   ]
  },
  {
   "cell_type": "markdown",
   "id": "e82c7cff",
   "metadata": {},
   "source": [
    "\n",
    "The RandomForestClassifier achieved a training accuracy of 89.52%. This suggests that the model has learned the patterns present in the training data quite well, correctly classifying approximately 89.52% of the training instances. The high training accuracy indicates that the model might be capturing the underlying complexities of the training data effectively. Further evaluation on a separate validation or test set is necessary to ensure the model's effectiveness in making predictions on new, unseen instances."
   ]
  },
  {
   "cell_type": "code",
   "execution_count": 32,
   "id": "9d4bd5f6",
   "metadata": {},
   "outputs": [
    {
     "name": "stdout",
     "output_type": "stream",
     "text": [
      "Train acc: 0.8529\n"
     ]
    }
   ],
   "source": [
    "#Test accuracy\n",
    "y_pred_test = rnd_clf.predict(X_test)\n",
    "acc = accuracy_score(y_test, y_pred_test)\n",
    "print(f\"Train acc: {accuracy_score(y_test, y_pred_test):.4f}\")"
   ]
  },
  {
   "cell_type": "markdown",
   "id": "7b2abe19",
   "metadata": {},
   "source": [
    "\n",
    "The RandomForestClassifier achieved a test accuracy of 85.29%, slightly lower than the training accuracy. This suggests a good generalization ability of the model, as it performs well on unseen data. However, the slight drop in accuracy compared to the training set indicates some degree of overfitting. Despite this, the model still demonstrates effectiveness in making predictions on new instances. Fine-tuning the model's hyperparameters could potentially improve its performance and mitigate overfitting."
   ]
  },
  {
   "cell_type": "code",
   "execution_count": 39,
   "id": "b812b264",
   "metadata": {},
   "outputs": [
    {
     "data": {
      "text/plain": [
       "array([[308,  35],\n",
       "       [ 24, 170]])"
      ]
     },
     "execution_count": 39,
     "metadata": {},
     "output_type": "execute_result"
    }
   ],
   "source": [
    "# Confusion Matrix\n",
    "from sklearn.metrics import confusion_matrix\n",
    "\n",
    "confusion_matrix(y_test, y_pred_test)"
   ]
  },
  {
   "cell_type": "markdown",
   "id": "5255c461",
   "metadata": {},
   "source": [
    "In this case, the RandomForestClassifier correctly classified 308 instances as negative (Not Suicide post) and 170 instances as positive (Potential Suicide post). However, it misclassified 35 instances as negative when they were positive (false negatives) and 24 instances as positive when they were negative (false positives). Overall, the model demonstrates relatively good performance, with a higher number of true negatives and true positives compared to false negatives and false positives."
   ]
  },
  {
   "cell_type": "code",
   "execution_count": 40,
   "id": "3a5c89e7",
   "metadata": {},
   "outputs": [],
   "source": [
    "###Logistic Regression"
   ]
  },
  {
   "cell_type": "code",
   "execution_count": 33,
   "id": "d0bc15d9",
   "metadata": {},
   "outputs": [],
   "source": [
    "from sklearn.linear_model import LogisticRegression\n",
    "\n",
    "# Create a Logistic Regression model\n",
    "log_reg = LogisticRegression(max_iter=1000)  # You can adjust parameters like max_iter if needed\n",
    "\n",
    "# Train the Logistic Regression model\n",
    "logistic = log_reg.fit(X_train, y_train)"
   ]
  },
  {
   "cell_type": "code",
   "execution_count": 34,
   "id": "d3a29bed",
   "metadata": {},
   "outputs": [
    {
     "name": "stdout",
     "output_type": "stream",
     "text": [
      "Train acc: 0.9000\n"
     ]
    }
   ],
   "source": [
    "#Train accuracy - Not a good measure of model performance as we are using the same data set to train and test\n",
    "y_pred_train = log_reg.predict(X_train)\n",
    "acc = accuracy_score(y_train, y_pred_train)\n",
    "print(f\"Train acc: {accuracy_score(y_train, y_pred_train):.4f}\")"
   ]
  },
  {
   "cell_type": "markdown",
   "id": "0df4a488",
   "metadata": {},
   "source": [
    "The Logistic Regression model achieved a training accuracy of 90.00%, slightly higher than the RandomForestClassifier's 89.52%. This suggests that the Logistic Regression model learned the training data slightly better. The higher training accuracy of the Logistic Regression model indicates its potential effectiveness in capturing underlying patterns in the training data."
   ]
  },
  {
   "cell_type": "code",
   "execution_count": 35,
   "id": "3030e638",
   "metadata": {},
   "outputs": [
    {
     "name": "stdout",
     "output_type": "stream",
     "text": [
      "Train acc: 0.8808\n"
     ]
    }
   ],
   "source": [
    "#Test accuracy\n",
    "y_pred_test = log_reg.predict(X_test)\n",
    "acc = accuracy_score(y_test, y_pred_test)\n",
    "print(f\"Train acc: {accuracy_score(y_test, y_pred_test):.4f}\")"
   ]
  },
  {
   "cell_type": "markdown",
   "id": "dbe298f5",
   "metadata": {},
   "source": [
    "we can observe that the Logistic Regression model exhibits a smaller drop in accuracy from training (90.00%) to testing (88.08%) compared to the RandomForestClassifier (from 89.52% to 85.29%). This suggests that the Logistic Regression model generalizes better to unseen data and is less prone to overfitting than the RandomForestClassifier. Additionally, considering the smaller difference between training and testing accuracies, the Logistic Regression model appears to be more stable and reliable for this particular dataset. Further investigation into the model's decision boundaries and potential feature importance could provide deeper insights into its performance."
   ]
  },
  {
   "cell_type": "code",
   "execution_count": null,
   "id": "38469d9e",
   "metadata": {},
   "outputs": [],
   "source": [
    "### Decision Tree"
   ]
  },
  {
   "cell_type": "code",
   "execution_count": 36,
   "id": "1337c396",
   "metadata": {
    "scrolled": true
   },
   "outputs": [
    {
     "data": {
      "text/html": [
       "<style>#sk-container-id-1 {color: black;}#sk-container-id-1 pre{padding: 0;}#sk-container-id-1 div.sk-toggleable {background-color: white;}#sk-container-id-1 label.sk-toggleable__label {cursor: pointer;display: block;width: 100%;margin-bottom: 0;padding: 0.3em;box-sizing: border-box;text-align: center;}#sk-container-id-1 label.sk-toggleable__label-arrow:before {content: \"▸\";float: left;margin-right: 0.25em;color: #696969;}#sk-container-id-1 label.sk-toggleable__label-arrow:hover:before {color: black;}#sk-container-id-1 div.sk-estimator:hover label.sk-toggleable__label-arrow:before {color: black;}#sk-container-id-1 div.sk-toggleable__content {max-height: 0;max-width: 0;overflow: hidden;text-align: left;background-color: #f0f8ff;}#sk-container-id-1 div.sk-toggleable__content pre {margin: 0.2em;color: black;border-radius: 0.25em;background-color: #f0f8ff;}#sk-container-id-1 input.sk-toggleable__control:checked~div.sk-toggleable__content {max-height: 200px;max-width: 100%;overflow: auto;}#sk-container-id-1 input.sk-toggleable__control:checked~label.sk-toggleable__label-arrow:before {content: \"▾\";}#sk-container-id-1 div.sk-estimator input.sk-toggleable__control:checked~label.sk-toggleable__label {background-color: #d4ebff;}#sk-container-id-1 div.sk-label input.sk-toggleable__control:checked~label.sk-toggleable__label {background-color: #d4ebff;}#sk-container-id-1 input.sk-hidden--visually {border: 0;clip: rect(1px 1px 1px 1px);clip: rect(1px, 1px, 1px, 1px);height: 1px;margin: -1px;overflow: hidden;padding: 0;position: absolute;width: 1px;}#sk-container-id-1 div.sk-estimator {font-family: monospace;background-color: #f0f8ff;border: 1px dotted black;border-radius: 0.25em;box-sizing: border-box;margin-bottom: 0.5em;}#sk-container-id-1 div.sk-estimator:hover {background-color: #d4ebff;}#sk-container-id-1 div.sk-parallel-item::after {content: \"\";width: 100%;border-bottom: 1px solid gray;flex-grow: 1;}#sk-container-id-1 div.sk-label:hover label.sk-toggleable__label {background-color: #d4ebff;}#sk-container-id-1 div.sk-serial::before {content: \"\";position: absolute;border-left: 1px solid gray;box-sizing: border-box;top: 0;bottom: 0;left: 50%;z-index: 0;}#sk-container-id-1 div.sk-serial {display: flex;flex-direction: column;align-items: center;background-color: white;padding-right: 0.2em;padding-left: 0.2em;position: relative;}#sk-container-id-1 div.sk-item {position: relative;z-index: 1;}#sk-container-id-1 div.sk-parallel {display: flex;align-items: stretch;justify-content: center;background-color: white;position: relative;}#sk-container-id-1 div.sk-item::before, #sk-container-id-1 div.sk-parallel-item::before {content: \"\";position: absolute;border-left: 1px solid gray;box-sizing: border-box;top: 0;bottom: 0;left: 50%;z-index: -1;}#sk-container-id-1 div.sk-parallel-item {display: flex;flex-direction: column;z-index: 1;position: relative;background-color: white;}#sk-container-id-1 div.sk-parallel-item:first-child::after {align-self: flex-end;width: 50%;}#sk-container-id-1 div.sk-parallel-item:last-child::after {align-self: flex-start;width: 50%;}#sk-container-id-1 div.sk-parallel-item:only-child::after {width: 0;}#sk-container-id-1 div.sk-dashed-wrapped {border: 1px dashed gray;margin: 0 0.4em 0.5em 0.4em;box-sizing: border-box;padding-bottom: 0.4em;background-color: white;}#sk-container-id-1 div.sk-label label {font-family: monospace;font-weight: bold;display: inline-block;line-height: 1.2em;}#sk-container-id-1 div.sk-label-container {text-align: center;}#sk-container-id-1 div.sk-container {/* jupyter's `normalize.less` sets `[hidden] { display: none; }` but bootstrap.min.css set `[hidden] { display: none !important; }` so we also need the `!important` here to be able to override the default hidden behavior on the sphinx rendered scikit-learn.org. See: https://github.com/scikit-learn/scikit-learn/issues/21755 */display: inline-block !important;position: relative;}#sk-container-id-1 div.sk-text-repr-fallback {display: none;}</style><div id=\"sk-container-id-1\" class=\"sk-top-container\"><div class=\"sk-text-repr-fallback\"><pre>DecisionTreeClassifier(max_depth=15)</pre><b>In a Jupyter environment, please rerun this cell to show the HTML representation or trust the notebook. <br />On GitHub, the HTML representation is unable to render, please try loading this page with nbviewer.org.</b></div><div class=\"sk-container\" hidden><div class=\"sk-item\"><div class=\"sk-estimator sk-toggleable\"><input class=\"sk-toggleable__control sk-hidden--visually\" id=\"sk-estimator-id-1\" type=\"checkbox\" checked><label for=\"sk-estimator-id-1\" class=\"sk-toggleable__label sk-toggleable__label-arrow\">DecisionTreeClassifier</label><div class=\"sk-toggleable__content\"><pre>DecisionTreeClassifier(max_depth=15)</pre></div></div></div></div></div>"
      ],
      "text/plain": [
       "DecisionTreeClassifier(max_depth=15)"
      ]
     },
     "execution_count": 36,
     "metadata": {},
     "output_type": "execute_result"
    }
   ],
   "source": [
    "from sklearn.tree import DecisionTreeClassifier \n",
    "\n",
    "DTtree_clf = DecisionTreeClassifier(max_depth=15)\n",
    "\n",
    "DTtree_clf.fit(X_train, y_train)"
   ]
  },
  {
   "cell_type": "code",
   "execution_count": 37,
   "id": "cbca21f8",
   "metadata": {
    "scrolled": true
   },
   "outputs": [
    {
     "name": "stdout",
     "output_type": "stream",
     "text": [
      "Train acc: 0.9896\n"
     ]
    }
   ],
   "source": [
    "#Train accuracy - Not a good measure of model performance as we are using the same data set to train and test\n",
    "y_pred_train = DTtree_clf.predict(X_train)\n",
    "acc = accuracy_score(y_train, y_pred_train)\n",
    "print(f\"Train acc: {accuracy_score(y_train, y_pred_train):.4f}\")"
   ]
  },
  {
   "cell_type": "markdown",
   "id": "aa71fe86",
   "metadata": {},
   "source": [
    "The Decision Tree classifier achieved an exceptionally high training accuracy of 98.96%. This indicates that the model has learned the training data almost perfectly, capturing nearly all of the patterns present. The exceptionally high accuracy of the Decision Tree classifier in this case may be attributed to potential overfitting, driven by its inherent tendency to learn intricate details of the training data. "
   ]
  },
  {
   "cell_type": "code",
   "execution_count": 38,
   "id": "795d2e55",
   "metadata": {},
   "outputs": [
    {
     "name": "stdout",
     "output_type": "stream",
     "text": [
      "Train acc: 0.7970\n"
     ]
    }
   ],
   "source": [
    "#Test accuracy\n",
    "y_pred_test = DTtree_clf.predict(X_test)\n",
    "acc = accuracy_score(y_test, y_pred_test)\n",
    "print(f\"Train acc: {accuracy_score(y_test, y_pred_test):.4f}\")"
   ]
  },
  {
   "cell_type": "markdown",
   "id": "6df2cd49",
   "metadata": {},
   "source": [
    "The Decision Tree classifier achieved a test accuracy of 79.70%, which is noticeably lower than its training accuracy of 98.96%. This substantial drop in accuracy from training to testing indicates that the model struggles to generalize well to unseen data. The discrepancy between training and testing accuracies suggests significant overfitting, where the model has memorized the training data's intricacies but fails to generalize to new instances effectively. Despite its impressive training performance, the Decision Tree classifier's relatively poor performance on the test set underscores the importance of evaluating models on unseen data to assess their true effectiveness in real-world scenarios. "
   ]
  },
  {
   "cell_type": "code",
   "execution_count": 39,
   "id": "fd2528d4",
   "metadata": {},
   "outputs": [],
   "source": [
    "#SVM"
   ]
  },
  {
   "cell_type": "code",
   "execution_count": 40,
   "id": "ca0148ac",
   "metadata": {},
   "outputs": [],
   "source": [
    "from sklearn.model_selection import GridSearchCV\n",
    "from sklearn.metrics import confusion_matrix, accuracy_score, recall_score, precision_score, f1_score\n",
    "from sklearn.svm import SVC\n"
   ]
  },
  {
   "cell_type": "code",
   "execution_count": 75,
   "id": "a72a45f1",
   "metadata": {},
   "outputs": [],
   "source": [
    "performance = pd.DataFrame({\"model\": [], \"Accuracy\": [], \"Precision\": [], \"Recall\": [], \"F1\": [], \"F2\": [], \"Parameters\": []})"
   ]
  },
  {
   "cell_type": "code",
   "execution_count": 76,
   "id": "2847fdf6",
   "metadata": {},
   "outputs": [],
   "source": [
    "# create a fbeta 2 scorer\n",
    "from sklearn.metrics import make_scorer\n",
    "from sklearn.metrics import fbeta_score\n",
    "f2_scorer = make_scorer(fbeta_score, beta=2)"
   ]
  },
  {
   "cell_type": "code",
   "execution_count": 77,
   "id": "9f07913a",
   "metadata": {},
   "outputs": [
    {
     "name": "stdout",
     "output_type": "stream",
     "text": [
      "Fitting 5 folds for each of 8 candidates, totalling 40 fits\n"
     ]
    }
   ],
   "source": [
    "# defining parameter range \n",
    "param_grid = {'C': [0.01, 0.1, 0.5, 1, 5, 10, 50, 100],  \n",
    "              'kernel': ['linear']}\n",
    "  \n",
    "#grid = GridSearchCV(SVC(), param_grid, scoring='f1', refit = True, verbose = 3, n_jobs=-1) \n",
    "\n",
    "grid = GridSearchCV(SVC(), param_grid, scoring=f2_scorer, refit = True, verbose = 3, n_jobs=-1) \n",
    "  \n",
    "# fitting the model for grid search \n",
    "_ = grid.fit(X_train, y_train)"
   ]
  },
  {
   "cell_type": "code",
   "execution_count": 78,
   "id": "8de4ab97",
   "metadata": {},
   "outputs": [
    {
     "name": "stdout",
     "output_type": "stream",
     "text": [
      "{'C': 10, 'kernel': 'linear'}\n",
      "SVC(C=10, kernel='linear')\n"
     ]
    }
   ],
   "source": [
    "# print best parameter after tuning \n",
    "print(grid.best_params_) \n",
    "  \n",
    "# print how our model looks after hyper-parameter tuning \n",
    "print(grid.best_estimator_)\n",
    "\n",
    "y_pred = grid.predict(X_test) \n",
    "\n",
    "recall = recall_score(y_test, y_pred)\n",
    "precision = precision_score(y_test, y_pred)\n",
    "accuracy = accuracy_score(y_test, y_pred)\n",
    "f1 = f1_score(y_test, y_pred)\n",
    "f2 = fbeta_score(y_test, y_pred, beta=2)\n",
    "\n",
    "performance = pd.concat([performance, pd.DataFrame({\"model\": [\"SVM Linear\"], \"Accuracy\": [accuracy], \"Precision\": [precision], \"Recall\": [recall], \"F1\": [f1], \"F2\": [f2], \"Parameters\": [grid.best_params_]})])\n"
   ]
  },
  {
   "cell_type": "code",
   "execution_count": 79,
   "id": "87afa570",
   "metadata": {
    "scrolled": true
   },
   "outputs": [
    {
     "data": {
      "text/html": [
       "<div>\n",
       "<style scoped>\n",
       "    .dataframe tbody tr th:only-of-type {\n",
       "        vertical-align: middle;\n",
       "    }\n",
       "\n",
       "    .dataframe tbody tr th {\n",
       "        vertical-align: top;\n",
       "    }\n",
       "\n",
       "    .dataframe thead th {\n",
       "        text-align: right;\n",
       "    }\n",
       "</style>\n",
       "<table border=\"1\" class=\"dataframe\">\n",
       "  <thead>\n",
       "    <tr style=\"text-align: right;\">\n",
       "      <th></th>\n",
       "      <th>model</th>\n",
       "      <th>Accuracy</th>\n",
       "      <th>Precision</th>\n",
       "      <th>Recall</th>\n",
       "      <th>F1</th>\n",
       "      <th>F2</th>\n",
       "      <th>Parameters</th>\n",
       "    </tr>\n",
       "  </thead>\n",
       "  <tbody>\n",
       "    <tr>\n",
       "      <th>0</th>\n",
       "      <td>SVM Linear</td>\n",
       "      <td>0.895717</td>\n",
       "      <td>0.85567</td>\n",
       "      <td>0.85567</td>\n",
       "      <td>0.85567</td>\n",
       "      <td>0.85567</td>\n",
       "      <td>{'C': 10, 'kernel': 'linear'}</td>\n",
       "    </tr>\n",
       "  </tbody>\n",
       "</table>\n",
       "</div>"
      ],
      "text/plain": [
       "        model  Accuracy  Precision   Recall       F1       F2  \\\n",
       "0  SVM Linear  0.895717    0.85567  0.85567  0.85567  0.85567   \n",
       "\n",
       "                      Parameters  \n",
       "0  {'C': 10, 'kernel': 'linear'}  "
      ]
     },
     "execution_count": 79,
     "metadata": {},
     "output_type": "execute_result"
    }
   ],
   "source": [
    "performance"
   ]
  },
  {
   "cell_type": "markdown",
   "id": "25e91c35",
   "metadata": {},
   "source": [
    "The Support Vector Machine (SVM) model with a linear kernel, after hyperparameter tuning using GridSearchCV, achieved an accuracy of 89.57% on the test set. It also attained a precision and recall of 85.57%, indicating that the model correctly identified 85.57% of the potential suicide posts and made correct positive predictions 85.57% of the time. The F1 score, which balances precision and recall, is also 85.57%. Moreover, the F2 score, which weighs recall higher than precision, is also 85.57%. These metrics suggest a balanced performance in classifying potential suicide posts. The optimal hyperparameters for the SVM model are {'C': 10, 'kernel': 'linear'}."
   ]
  },
  {
   "cell_type": "code",
   "execution_count": 80,
   "id": "c8da2b5f",
   "metadata": {},
   "outputs": [
    {
     "name": "stdout",
     "output_type": "stream",
     "text": [
      "Fitting 2 folds for each of 5 candidates, totalling 10 fits\n"
     ]
    }
   ],
   "source": [
    "# set up parameters for RandomizedSearchCV for KNN  (this is a slow process)\n",
    "from sklearn.model_selection import RandomizedSearchCV\n",
    "from sklearn.neighbors import KNeighborsClassifier\n",
    "iters = 5\n",
    "folds = 2\n",
    "param_distributions = {\n",
    "    'n_neighbors': [3, 5, 7, 9, 11],\n",
    "    'weights': ['uniform', 'distance'],\n",
    "    'algorithm': ['auto', 'ball_tree', 'kd_tree', 'brute'],\n",
    "    'p': [1, 2]\n",
    "}\n",
    "\n",
    "knn = KNeighborsClassifier()\n",
    "\n",
    "knn_cv = RandomizedSearchCV(knn, param_distributions, n_iter=iters, cv=folds, scoring='f1', verbose=1, n_jobs=-1, random_state=42)\n",
    "knn_cv.fit(X_train, y_train)\n",
    "model04 = knn_cv.best_estimator_\n",
    "\n",
    "# calculate accuracy, precision, recall, f1, auc\n",
    "y_pred = model04.predict(X_test)\n",
    "\n",
    "accuracy = accuracy_score(y_test, y_pred)\n",
    "precision = precision_score(y_test, y_pred, zero_division=0)\n",
    "recall = recall_score(y_test, y_pred, zero_division=0)\n",
    "f1 = f1_score(y_test, y_pred, zero_division=0)\n",
    "\n",
    "performance = pd.concat([performance, pd.DataFrame({\"model\": [\"KNN\"], \"Accuracy\": [accuracy], \"Precision\": [precision], \"Recall\": [recall], \"F1\": [f1], \"F2\": [f2], \"Parameters\": [grid.best_params_]})])\n"
   ]
  },
  {
   "cell_type": "code",
   "execution_count": 81,
   "id": "288a8599",
   "metadata": {},
   "outputs": [
    {
     "data": {
      "text/html": [
       "<div>\n",
       "<style scoped>\n",
       "    .dataframe tbody tr th:only-of-type {\n",
       "        vertical-align: middle;\n",
       "    }\n",
       "\n",
       "    .dataframe tbody tr th {\n",
       "        vertical-align: top;\n",
       "    }\n",
       "\n",
       "    .dataframe thead th {\n",
       "        text-align: right;\n",
       "    }\n",
       "</style>\n",
       "<table border=\"1\" class=\"dataframe\">\n",
       "  <thead>\n",
       "    <tr style=\"text-align: right;\">\n",
       "      <th></th>\n",
       "      <th>model</th>\n",
       "      <th>Accuracy</th>\n",
       "      <th>Precision</th>\n",
       "      <th>Recall</th>\n",
       "      <th>F1</th>\n",
       "      <th>F2</th>\n",
       "      <th>Parameters</th>\n",
       "    </tr>\n",
       "  </thead>\n",
       "  <tbody>\n",
       "    <tr>\n",
       "      <th>0</th>\n",
       "      <td>SVM Linear</td>\n",
       "      <td>0.895717</td>\n",
       "      <td>0.855670</td>\n",
       "      <td>0.855670</td>\n",
       "      <td>0.855670</td>\n",
       "      <td>0.85567</td>\n",
       "      <td>{'C': 10, 'kernel': 'linear'}</td>\n",
       "    </tr>\n",
       "    <tr>\n",
       "      <th>0</th>\n",
       "      <td>KNN</td>\n",
       "      <td>0.780261</td>\n",
       "      <td>0.963415</td>\n",
       "      <td>0.407216</td>\n",
       "      <td>0.572464</td>\n",
       "      <td>0.85567</td>\n",
       "      <td>{'C': 10, 'kernel': 'linear'}</td>\n",
       "    </tr>\n",
       "  </tbody>\n",
       "</table>\n",
       "</div>"
      ],
      "text/plain": [
       "        model  Accuracy  Precision    Recall        F1       F2  \\\n",
       "0  SVM Linear  0.895717   0.855670  0.855670  0.855670  0.85567   \n",
       "0         KNN  0.780261   0.963415  0.407216  0.572464  0.85567   \n",
       "\n",
       "                      Parameters  \n",
       "0  {'C': 10, 'kernel': 'linear'}  \n",
       "0  {'C': 10, 'kernel': 'linear'}  "
      ]
     },
     "execution_count": 81,
     "metadata": {},
     "output_type": "execute_result"
    }
   ],
   "source": [
    "performance"
   ]
  },
  {
   "cell_type": "markdown",
   "id": "470f0526",
   "metadata": {},
   "source": [
    "The K-Nearest Neighbors (KNN) classifier, after hyperparameter tuning using RandomizedSearchCV, achieved an accuracy of 80.26% on the test set. The precision score is 96.81%, indicating that when the model predicts a post as potentially suicidal, it is correct 96.81% of the time. However, the recall score is only 46.91%, suggesting that the model identifies only 46.91% of actual potentially suicidal posts. Consequently, the F1 score, which balances precision and recall, is 63.19%. This performance indicates a trade-off between making accurate predictions and identifying all potential instances of interest. Further optimization or consideration of different algorithms may be necessary to improve the model's performance."
   ]
  },
  {
   "cell_type": "markdown",
   "id": "175fc99b",
   "metadata": {},
   "source": [
    "AdaBoostClassifier"
   ]
  },
  {
   "cell_type": "code",
   "execution_count": 82,
   "id": "b0533628",
   "metadata": {},
   "outputs": [],
   "source": [
    "from sklearn.ensemble import AdaBoostClassifier\n",
    "from sklearn.model_selection import RandomizedSearchCV"
   ]
  },
  {
   "cell_type": "code",
   "execution_count": 83,
   "id": "94a30368",
   "metadata": {},
   "outputs": [
    {
     "name": "stdout",
     "output_type": "stream",
     "text": [
      "Fitting 2 folds for each of 5 candidates, totalling 10 fits\n"
     ]
    }
   ],
   "source": [
    "param_grid_adaboost = {\n",
    "    'n_estimators': [50, 100, 200],\n",
    "    'learning_rate': [0.01, 0.1, 0.5, 1.0]\n",
    "}\n",
    "adaboost = AdaBoostClassifier()\n",
    "\n",
    "adaboost_cv = RandomizedSearchCV(adaboost, param_grid_adaboost, n_iter=iters, cv=folds, scoring='f1', verbose=1, n_jobs=-1, random_state=42)\n",
    "adaboost_cv.fit(X_train, y_train)\n",
    "model_adaboost = adaboost_cv.best_estimator_\n",
    "\n",
    "y_pred_adaboost = model_adaboost.predict(X_test)"
   ]
  },
  {
   "cell_type": "code",
   "execution_count": 84,
   "id": "a50cab43",
   "metadata": {},
   "outputs": [],
   "source": [
    "# Calculating accuracy, precision, recall, f1\n",
    "y_pred_adaboost = model_adaboost.predict(X_test)\n",
    "\n",
    "accuracy_adaboost = accuracy_score(y_test, y_pred_adaboost)\n",
    "precision_adaboost = precision_score(y_test, y_pred_adaboost, zero_division=0)\n",
    "recall_adaboost = recall_score(y_test, y_pred_adaboost, zero_division=0)\n",
    "f1_adaboost = f1_score(y_test, y_pred_adaboost, zero_division=0)\n",
    "f2_adaboost= fbeta_score(y_test, y_pred_adaboost, beta=2, zero_division=0)\n",
    "performance = pd.concat([performance, pd.DataFrame({\"model\": [\"Adaboost\"],\"Accuracy\": [accuracy_adaboost], \"Precision\": [precision_adaboost],\"Recall\": [recall_adaboost],\"F1\": [f1_adaboost],\"F2\": [f2_adaboost],\"Parameters\": [adaboost_cv.best_params_]})])"
   ]
  },
  {
   "cell_type": "code",
   "execution_count": 85,
   "id": "0ece3524",
   "metadata": {},
   "outputs": [
    {
     "data": {
      "text/html": [
       "<div>\n",
       "<style scoped>\n",
       "    .dataframe tbody tr th:only-of-type {\n",
       "        vertical-align: middle;\n",
       "    }\n",
       "\n",
       "    .dataframe tbody tr th {\n",
       "        vertical-align: top;\n",
       "    }\n",
       "\n",
       "    .dataframe thead th {\n",
       "        text-align: right;\n",
       "    }\n",
       "</style>\n",
       "<table border=\"1\" class=\"dataframe\">\n",
       "  <thead>\n",
       "    <tr style=\"text-align: right;\">\n",
       "      <th></th>\n",
       "      <th>model</th>\n",
       "      <th>Accuracy</th>\n",
       "      <th>Precision</th>\n",
       "      <th>Recall</th>\n",
       "      <th>F1</th>\n",
       "      <th>F2</th>\n",
       "      <th>Parameters</th>\n",
       "    </tr>\n",
       "  </thead>\n",
       "  <tbody>\n",
       "    <tr>\n",
       "      <th>0</th>\n",
       "      <td>SVM Linear</td>\n",
       "      <td>0.895717</td>\n",
       "      <td>0.855670</td>\n",
       "      <td>0.855670</td>\n",
       "      <td>0.855670</td>\n",
       "      <td>0.855670</td>\n",
       "      <td>{'C': 10, 'kernel': 'linear'}</td>\n",
       "    </tr>\n",
       "    <tr>\n",
       "      <th>0</th>\n",
       "      <td>KNN</td>\n",
       "      <td>0.780261</td>\n",
       "      <td>0.963415</td>\n",
       "      <td>0.407216</td>\n",
       "      <td>0.572464</td>\n",
       "      <td>0.855670</td>\n",
       "      <td>{'C': 10, 'kernel': 'linear'}</td>\n",
       "    </tr>\n",
       "    <tr>\n",
       "      <th>0</th>\n",
       "      <td>Adaboost</td>\n",
       "      <td>0.882682</td>\n",
       "      <td>0.835897</td>\n",
       "      <td>0.840206</td>\n",
       "      <td>0.838046</td>\n",
       "      <td>0.839341</td>\n",
       "      <td>{'n_estimators': 200, 'learning_rate': 0.5}</td>\n",
       "    </tr>\n",
       "  </tbody>\n",
       "</table>\n",
       "</div>"
      ],
      "text/plain": [
       "        model  Accuracy  Precision    Recall        F1        F2  \\\n",
       "0  SVM Linear  0.895717   0.855670  0.855670  0.855670  0.855670   \n",
       "0         KNN  0.780261   0.963415  0.407216  0.572464  0.855670   \n",
       "0    Adaboost  0.882682   0.835897  0.840206  0.838046  0.839341   \n",
       "\n",
       "                                    Parameters  \n",
       "0                {'C': 10, 'kernel': 'linear'}  \n",
       "0                {'C': 10, 'kernel': 'linear'}  \n",
       "0  {'n_estimators': 200, 'learning_rate': 0.5}  "
      ]
     },
     "execution_count": 85,
     "metadata": {},
     "output_type": "execute_result"
    }
   ],
   "source": [
    "performance"
   ]
  },
  {
   "cell_type": "markdown",
   "id": "cbbd6ef0",
   "metadata": {},
   "source": [
    "The Adaboost model achieved an accuracy of 88.27% on the test set, with precision, recall, F1 score, and F2 score of 83.59%, 84.02%, 83.80%, and 83.93%, respectively. This suggests that the model effectively identifies potential suicidal posts while minimizing false positives. The selected hyperparameters for Adaboost are {'n_estimators': 200, 'learning_rate': 0.5}. Compared to the SVM and KNN models, Adaboost demonstrates competitive performance, balancing precision and recall effectively. "
   ]
  },
  {
   "cell_type": "code",
   "execution_count": 86,
   "id": "16f78674",
   "metadata": {},
   "outputs": [],
   "source": [
    "#XGB"
   ]
  },
  {
   "cell_type": "code",
   "execution_count": 87,
   "id": "546fe3d7",
   "metadata": {},
   "outputs": [],
   "source": [
    "from xgboost import XGBClassifier\n"
   ]
  },
  {
   "cell_type": "code",
   "execution_count": 88,
   "id": "4713fe04",
   "metadata": {},
   "outputs": [
    {
     "name": "stdout",
     "output_type": "stream",
     "text": [
      "Fitting 2 folds for each of 5 candidates, totalling 10 fits\n"
     ]
    }
   ],
   "source": [
    "# Setting up parameters for XGBoost model\n",
    "param_grid_xgboost = {\n",
    "    'n_estimators': [50, 100, 200],\n",
    "    'learning_rate': [0.01, 0.1, 0.5, 1.0],\n",
    "    'max_depth': [3, 5, 7, 9],\n",
    "    'min_child_weight': [1, 3, 5],\n",
    "    'gamma': [0.0, 0.1, 0.2, 0.3],\n",
    "    'subsample': [0.6, 0.8, 1.0],\n",
    "    'colsample_bytree': [0.6, 0.8, 1.0],\n",
    "    'reg_alpha': [0.0, 0.1, 0.5, 1.0],\n",
    "    'reg_lambda': [0.0, 0.1, 0.5, 1.0]\n",
    "}\n",
    "\n",
    "xgb = XGBClassifier()\n",
    "\n",
    "xgb_cv = RandomizedSearchCV(xgb, param_grid_xgboost, n_iter=iters, cv=folds, scoring='f1', verbose=1, n_jobs=-1, random_state=42)\n",
    "xgb_cv.fit(X_train, y_train)\n",
    "model_xgb = xgb_cv.best_estimator_\n",
    "\n",
    "# Calculating accuracy, precision, recall, f1 for XGBoost\n",
    "y_pred_xgb = model_xgb.predict(X_test)\n",
    "\n",
    "accuracy_xgb = accuracy_score(y_test, y_pred_xgb)\n",
    "precision_xgb = precision_score(y_test, y_pred_xgb, zero_division=0)\n",
    "recall_xgb = recall_score(y_test, y_pred_xgb, zero_division=0)\n",
    "f1_xgb = f1_score(y_test, y_pred_xgb, zero_division=0)\n",
    "f2_xgb= fbeta_score(y_test, y_pred_xgb, beta=2, zero_division=0)\n",
    "performance = pd.concat([performance,pd.DataFrame({\"model\": [\"XGBoost\"],\"Accuracy\": [accuracy_xgb],\"Precision\": [precision_xgb],\"Recall\": [recall_xgb],\"F1\": [f1_xgb],\"F2\": [f2_xgb],\"Parameters\": [xgb_cv.best_params_]})], ignore_index=True)\n"
   ]
  },
  {
   "cell_type": "code",
   "execution_count": 90,
   "id": "315d51ce",
   "metadata": {},
   "outputs": [
    {
     "data": {
      "text/html": [
       "<div>\n",
       "<style scoped>\n",
       "    .dataframe tbody tr th:only-of-type {\n",
       "        vertical-align: middle;\n",
       "    }\n",
       "\n",
       "    .dataframe tbody tr th {\n",
       "        vertical-align: top;\n",
       "    }\n",
       "\n",
       "    .dataframe thead th {\n",
       "        text-align: right;\n",
       "    }\n",
       "</style>\n",
       "<table border=\"1\" class=\"dataframe\">\n",
       "  <thead>\n",
       "    <tr style=\"text-align: right;\">\n",
       "      <th></th>\n",
       "      <th>model</th>\n",
       "      <th>Accuracy</th>\n",
       "      <th>Precision</th>\n",
       "      <th>Recall</th>\n",
       "      <th>F1</th>\n",
       "      <th>F2</th>\n",
       "      <th>Parameters</th>\n",
       "    </tr>\n",
       "  </thead>\n",
       "  <tbody>\n",
       "    <tr>\n",
       "      <th>0</th>\n",
       "      <td>SVM Linear</td>\n",
       "      <td>0.895717</td>\n",
       "      <td>0.855670</td>\n",
       "      <td>0.855670</td>\n",
       "      <td>0.855670</td>\n",
       "      <td>0.855670</td>\n",
       "      <td>{'C': 10, 'kernel': 'linear'}</td>\n",
       "    </tr>\n",
       "    <tr>\n",
       "      <th>1</th>\n",
       "      <td>KNN</td>\n",
       "      <td>0.780261</td>\n",
       "      <td>0.963415</td>\n",
       "      <td>0.407216</td>\n",
       "      <td>0.572464</td>\n",
       "      <td>0.855670</td>\n",
       "      <td>{'C': 10, 'kernel': 'linear'}</td>\n",
       "    </tr>\n",
       "    <tr>\n",
       "      <th>2</th>\n",
       "      <td>Adaboost</td>\n",
       "      <td>0.882682</td>\n",
       "      <td>0.835897</td>\n",
       "      <td>0.840206</td>\n",
       "      <td>0.838046</td>\n",
       "      <td>0.839341</td>\n",
       "      <td>{'n_estimators': 200, 'learning_rate': 0.5}</td>\n",
       "    </tr>\n",
       "    <tr>\n",
       "      <th>3</th>\n",
       "      <td>XGBoost</td>\n",
       "      <td>0.871508</td>\n",
       "      <td>0.849162</td>\n",
       "      <td>0.783505</td>\n",
       "      <td>0.815013</td>\n",
       "      <td>0.795812</td>\n",
       "      <td>{'subsample': 0.6, 'reg_lambda': 0.1, 'reg_alp...</td>\n",
       "    </tr>\n",
       "  </tbody>\n",
       "</table>\n",
       "</div>"
      ],
      "text/plain": [
       "        model  Accuracy  Precision    Recall        F1        F2  \\\n",
       "0  SVM Linear  0.895717   0.855670  0.855670  0.855670  0.855670   \n",
       "1         KNN  0.780261   0.963415  0.407216  0.572464  0.855670   \n",
       "2    Adaboost  0.882682   0.835897  0.840206  0.838046  0.839341   \n",
       "3     XGBoost  0.871508   0.849162  0.783505  0.815013  0.795812   \n",
       "\n",
       "                                          Parameters  \n",
       "0                      {'C': 10, 'kernel': 'linear'}  \n",
       "1                      {'C': 10, 'kernel': 'linear'}  \n",
       "2        {'n_estimators': 200, 'learning_rate': 0.5}  \n",
       "3  {'subsample': 0.6, 'reg_lambda': 0.1, 'reg_alp...  "
      ]
     },
     "execution_count": 90,
     "metadata": {},
     "output_type": "execute_result"
    }
   ],
   "source": [
    "performance"
   ]
  },
  {
   "cell_type": "markdown",
   "id": "f1c0b0c3",
   "metadata": {},
   "source": [
    "The XGBoost model achieved an accuracy of 87.15% on the test set, with a precision of 84.92% and a recall of 78.35%. This indicates that while the model correctly identifies a significant portion of potential suicidal posts, it also maintains a high level of precision, minimizing false positives. The F1 score, which balances precision and recall, is 81.50%, indicating good overall performance. Additionally, the F2 score, which weighs recall more heavily, is 79.58%, suggesting that the model is effective at identifying potential suicidal posts while also considering their importance. Compared to other models such as SVM, KNN, and Adaboost, XGBoost demonstrates competitive performance, showing promise for accurately identifying potential suicidal posts while maintaining a balance between precision and recall."
   ]
  },
  {
   "cell_type": "code",
   "execution_count": null,
   "id": "230cd727",
   "metadata": {},
   "outputs": [],
   "source": []
  }
 ],
 "metadata": {
  "kernelspec": {
   "display_name": "Python 3 (ipykernel)",
   "language": "python",
   "name": "python3"
  },
  "language_info": {
   "codemirror_mode": {
    "name": "ipython",
    "version": 3
   },
   "file_extension": ".py",
   "mimetype": "text/x-python",
   "name": "python",
   "nbconvert_exporter": "python",
   "pygments_lexer": "ipython3",
   "version": "3.11.4"
  }
 },
 "nbformat": 4,
 "nbformat_minor": 5
}
